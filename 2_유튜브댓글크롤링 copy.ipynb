{
 "cells": [
  {
   "cell_type": "code",
   "execution_count": 2,
   "metadata": {},
   "outputs": [],
   "source": [
    "#1. 모듈 임포트\n",
    "import time\n",
    "from selenium import webdriver\n",
    "from selenium.webdriver.chrome.service import Service\n",
    "from webdriver_manager.chrome import ChromeDriverManager\n",
    "from selenium.webdriver.common.by import By\n",
    "from selenium.webdriver import Keys"
   ]
  },
  {
   "cell_type": "code",
   "execution_count": 11,
   "metadata": {},
   "outputs": [],
   "source": [
    "#2. 드라이버 옵션 설정\n",
    "chrome_options = webdriver.ChromeOptions()\n",
    "chrome_options.add_experimental_option('detach',True)\n",
    "# 웹 브라우저 띄우기\n",
    "driver = webdriver.Chrome(service=Service(ChromeDriverManager().install()),\n",
    "                          options=chrome_options)"
   ]
  },
  {
   "cell_type": "code",
   "execution_count": 12,
   "metadata": {},
   "outputs": [],
   "source": [
    "url = \"https://www.youtube.com/watch?v=jNQXAC9IVRw\"\n",
    "driver.get(url)\n",
    "time.sleep(2)"
   ]
  },
  {
   "cell_type": "code",
   "execution_count": 13,
   "metadata": {},
   "outputs": [],
   "source": [
    "# 4. 일시정지 버튼 클릭하기\n",
    "play_button = driver.find_element(By.CSS_SELECTOR, \".ytp-play-button.ytp-button\")\n",
    "play_button.click()"
   ]
  },
  {
   "cell_type": "code",
   "execution_count": 14,
   "metadata": {},
   "outputs": [
    {
     "data": {
      "text/plain": [
       "<selenium.webdriver.remote.webelement.WebElement (session=\"e10ea8354b4143810166155e1ebd1149\", element=\"f.3211CF8CE2E42D6BD26B2CB112C45EF1.d.9E94DB5F565379256033F2F6ABED90AE.e.144\")>"
      ]
     },
     "execution_count": 14,
     "metadata": {},
     "output_type": "execute_result"
    }
   ],
   "source": [
    "content_text = driver.find_element(By.ID,\"content-text\")\n",
    "content_text"
   ]
  },
  {
   "cell_type": "code",
   "execution_count": 18,
   "metadata": {},
   "outputs": [],
   "source": [
    "#5. 스크롤 내리기\n",
    "# END 키를 반복해서 클릭하기\n",
    "\n",
    "comment_number = 200\n",
    "\n",
    "while True:\n",
    "    content_text = driver.find_elements(By.ID,\"content-text\")\n",
    "    if len(content_text) <comment_number:\n",
    "        driver.find_element(By.CSS_SELECTOR,'body').send_keys(Keys.END)\n",
    "        time.sleep(2)\n",
    "    else:\n",
    "        break\n",
    "\n",
    "comment_list = []\n",
    "for item in content_text:\n",
    "    comment_list.append(item.text)"
   ]
  },
  {
   "cell_type": "code",
   "execution_count": 19,
   "metadata": {},
   "outputs": [
    {
     "data": {
      "text/plain": [
       "[\"We're so honored that the first ever YouTube video was filmed here!\",\n",
       " 'To all the people that arent bots have a great day',\n",
       " 'No matter what this will always be the most important video on this site. This really is the YouTube video.',\n",
       " \"It's kinda funny how we are all getting recommend this 19 years later in 2024...\",\n",
       " 'The amount of bots in the comment section is higher than Mt. Everest',\n",
       " 'Imagine logging on YouTube and this is the only video you see',\n",
       " 'Funnily enough the first ever time I went to a zoo was the exact same date this video was uploaded.',\n",
       " 'Thanks for the timestamps, I needed to know when the cool thing was shown!',\n",
       " 'First word on Youtube ever:\\nAlright',\n",
       " 'Wow people are posting comments each second',\n",
       " '19 years later this got recommended to me',\n",
       " 'You doesn’t find this video. \\nThis video finds you.',\n",
       " 'a fragment of history\\n\\nbefore it was hacked',\n",
       " 'The one and only video to test the platform. And here we all are...',\n",
       " 'Who is Here In 2024',\n",
       " \"It's weird how the kids you can hear in the background will probably be in their late twenties now\",\n",
       " 'Good luck trynna find 5+ year comment',\n",
       " 'Soo, So many verified account commented here. Here I am also.',\n",
       " 'What We Learnt:\\nThe Elephants Have Really Long Trunks ',\n",
       " 'This is almost 20 years old but still fun to see.',\n",
       " 'Still waiting for the sequel : Me at the Safari',\n",
       " 'What the hell is this a live chat? Every 1 second someone comments!?!',\n",
       " 'I remember searching this video and it said \"7 years ago\" and i was like damn! \\nNow i searched it again and saw, that this video was uploaded 19 years ago... 2005. The year i was born. Holy fucking shit.',\n",
       " '19 years later and the algorithm is still pushing this masterpiece.',\n",
       " 'The day it all started.',\n",
       " 'Wow, people are watching this everyday!',\n",
       " 'here after i realized i saw a comment from 17 years ago on a video about chad ochocinco being interviewed while concussed.',\n",
       " 'Anyone in 2024 :(',\n",
       " 'Nice Zoo',\n",
       " 'my kids will learn about this video in their history lessons',\n",
       " 'Imagine he returns to the zoo when youtube turns 20...',\n",
       " 'Anyone from 2024',\n",
       " \"Gradually Youtube will recommend it's 1st ever video to all users !!\",\n",
       " 'They  have  long  trunks ',\n",
       " 'dude is still reading comments!!',\n",
       " 'The OG YT vid can never be forgotten',\n",
       " 'Well the comments on this video are certainly... interesting',\n",
       " 'Hood classic',\n",
       " '19 years is 6935 days guys',\n",
       " 'Who’s here after 19 years',\n",
       " 'Youtube is already 15 years old ',\n",
       " \"15 years later... Let's go back to the future.\",\n",
       " \"And I'm here again, yt algorithm gets me here every year\",\n",
       " 'Why did YouTube recommend me his first video?',\n",
       " 'The only person that deserves to comment \"first\"!',\n",
       " 'The scariest part is that every time I refresh the “newest first” comments, tHeReS mOrE...\\n(Actually nvm it’s not scary)',\n",
       " 'History update: PewDiePie has been avenged',\n",
       " 'اول تعليق من بعد أربع سنوات',\n",
       " 'What? For some reason this was in my recommended now? In 2020? Thanks YouTube!',\n",
       " 'Showing elephant = recommended!\\n\\nWrite that downnnn',\n",
       " 'Finally a video without ad',\n",
       " 'Why did YouTube recommend me this after  19 years ',\n",
       " 'Crazy this video is older than most kids using this platform ',\n",
       " 'Cute elephants not gonna lie',\n",
       " 'Very Nice to know this was the first video on youtube!',\n",
       " 'People are not complaining to freddy vs jason 2 cgi on you tube\\n\\n\\n\\nIts a MASTERPIECE for its age',\n",
       " 'welcome to the comment section of the most important video',\n",
       " 'Really really Long Trunks.. Still in 2021 ️',\n",
       " 'Why is this keep coming on my homepage this is the the literal defination of OLD',\n",
       " 'Soy el único que lo sigue viendo en 2024?',\n",
       " 'Ugh the comment section is ruined!!!',\n",
       " 'I knew this video existed but waited so long for it to be recommended to me to watch it for the first time and today is that day......',\n",
       " 'the very first sound on youtube: “ooh wee” - random kid',\n",
       " 'How tf yt showing me this vid to my feed after 19 years',\n",
       " '2021 had to revisit the first episode of the Anime known as “YouTube”',\n",
       " 'So, I can see so many comments from verified accounts here. Therefore, I am also commenting.',\n",
       " 'NEARLY 20 YEARS AGO WTF WHERE DID TIME GO',\n",
       " \"I'm watching the first YouTube video in 2024 and you?\",\n",
       " 'Hoping for a sequel',\n",
       " 'Anyone else looking for the \"interesting\" comment?',\n",
       " 'this actually needs a remake',\n",
       " 'ok bro this video literally recommended  after 4 year for 13th time \\ni hope this video will recommend me after 5-7 years again then i will tell you my achievements for till then bye',\n",
       " 'Haha hey is this being recommended now lol',\n",
       " 'People are garbage, thank JT for giving this situation light',\n",
       " 'Watch this video in 2024 ',\n",
       " 'I think he is at the zoo guys',\n",
       " 'Why is everyone watching this just now and commenting?',\n",
       " 'The video will turn 16 years old in just one month!\\n \\nSince this video is now 19 years old, it would turn 20 years old in 10 months!',\n",
       " \"something about this video makes me sad. how far we've come. how far we've fallen. the sincerity of the internet is gone. rip. retvrn.\",\n",
       " 'Most Active Comment Section On YouTube ',\n",
       " \"I'm confused why he doesn't upload on this channel, I mean... he hearts some of the comments so that means he's not dead or forgot he forgot his password lol.\",\n",
       " 'Nearly 20 years and the video is still on my recommended! Wow',\n",
       " 'ведь интересно,что сейчас со всеми людьми,которые оставляли комментарии 17 лет назад',\n",
       " 'Bruh this might be the most commented video too.',\n",
       " 'Last video of YouTube:\\n\\nMe getting out of the zoo',\n",
       " 'I think this video is kind of relaxing. People used to make videos like this, but now is just all brainrot.',\n",
       " 'they have really….. really long trunks \\n                                -first ever YouTuber, Jawed.',\n",
       " 'I feel like this is a live chat everyone commented like 3 mins ago?!',\n",
       " 'History made in 20 seconds',\n",
       " \"In 2025 this video will be 2 decade's old.... \",\n",
       " 'How time flies...crazy to thing this video become masterpiece year by year..',\n",
       " 'When the comment section is like live chat...',\n",
       " 'i refuse to believe 2005 was 10 years ago',\n",
       " 'It’s impossible to find the first comment. Even if someone found it it would be impossible to know if it was first or not.',\n",
       " 'Atleast the videos at the past were so simple and educational and now is so cringe',\n",
       " 'last youtube video : me leaving the zoo',\n",
       " 'We’re here 18 years later yet this legendary video is still remembered and a big part of YouTube',\n",
       " 'The San Diego Zoo comment is the most liked comment in youtube history btw. you guys should hit like on the comment tbh',\n",
       " 'crazy how this video was nearly filmed 2 decades ago',\n",
       " \"Since they removed the comment, let's start all over.\\n\\nInteresting...\",\n",
       " 'Guys he’s called Jawed Karim and he’s the co-founder of youtube, he still lives but I don’t know why he doesn’t upload anymore xD',\n",
       " 'How do I keep ending up scrolling through the comments for hours every day?!?!',\n",
       " 'anyone else watching in June 2024??',\n",
       " 'Yeah i can finally say that i reached the bottom of youtube',\n",
       " 'For those who are wondering, the first comment EVER was \"interesting...\" and it was posted by COBALTGRUV',\n",
       " '\"reaAlly ReAlLy LOng TrUnKS \\n\\n     and thats very cool thing',\n",
       " 'Who waiting for this video to make 20 yrs?',\n",
       " '0.1% comments: 14 years ago\\n99.9% comments: 1 minut ago',\n",
       " 'Wow, this video gets a few comments per hour consistently',\n",
       " 'This video was recommended to me 5 years ago but suddenly it got recommended again.',\n",
       " 'Who watch this in 2024',\n",
       " 'Thats how it all Started ,)) I made my account year after that...its been wild ride',\n",
       " \"I was 2, now I'm 11 \",\n",
       " \"Holy moly it's been 19 years now\",\n",
       " 'How come this has 325m views, this deserves 1b!',\n",
       " 'Really smart way of using the description, I like it',\n",
       " 'Wow 10 years?',\n",
       " 'I feel old this was almost 20 years ago',\n",
       " 'This is where all the history started...',\n",
       " '2005:me at the zoo\\n2017:The Zoo Is My City',\n",
       " 'The question is, which will be the last video uploaded to YouTube?',\n",
       " \"Wow this was randomly suggested but it's still cool\",\n",
       " \"Pov : it's 2024 \",\n",
       " 'objective: found a comment from 14 years ago\\nobstacle: 4 second comments',\n",
       " \"Cant wait for:\\n\\n'Me At The Farm'\",\n",
       " 'Jawed you would be so glad that you are the first youtube video uploader.',\n",
       " 'Why did I get recommended this',\n",
       " '2005: me at the zoo\\n2017 : OMG! GOING TO THE ZOO (GONE WRONG!)',\n",
       " 'Out of 3 million comments, you found me! Great job young traveler...',\n",
       " 'What almost going to 20 years to this legendary video ',\n",
       " '20 years after...\\nbecomes the most popular video on YouTube ',\n",
       " 'Me: goes to top comments\\n\\nTop comments: 10 seconds ago\\n\\nAlso me: ',\n",
       " 'Wow. I posted my first video in 2008.',\n",
       " 'Who are not born when this video  is posted like me ',\n",
       " 'got this on my recommended page',\n",
       " \"I can't believe youtube still recommended this legend video after 18 years !\",\n",
       " 'Anyone from adults react?',\n",
       " 'Man Yt recommends me this every time ',\n",
       " \"She's MIGHT just be the most humble and heartwarming person to exist️️️\",\n",
       " 'Recommended 18 years later, to an Argentinian, a piece of history',\n",
       " 'This is still hitting the algorithm after 18 years',\n",
       " 'When I put a comment on this video, I will have put a comment on the first video uploaded to the YouTube application  Where are you, Vance Book of World Records ',\n",
       " 'Bro 19 years ago and i got it on my page again ️',\n",
       " '2005: me at the zoo\\n2017: ME AT THE ZOO (GONE WRONG) (GONE SEXUAL) (I ALMOST DIED) (NOT CLICKBAIT)',\n",
       " 'This video is older than a fair number of people using the site are.',\n",
       " 'Very soon, this video will officially be 20 years old.',\n",
       " 'Why the heck is this being recommended now?!?',\n",
       " 'Bow, just leaving my mark.',\n",
       " \"When this video was uploaded, the entire Jake Paul fan base wasn't even born yet.\",\n",
       " 'Like si crees que aquí empieza una leyenda',\n",
       " 'Siapa yang masih melihat di Tahun 2024?\\n\\nSaya suka orang ini, cinta dari Indonesia 🇮🇩',\n",
       " 'In 2005, we learned that the elephants have really really long trunks for the first time',\n",
       " 'Jawed the legend with 2.06 million suscriber on 177 million view by single video...........️️',\n",
       " 'Fun fact, you can like this comment  by double tapping on it',\n",
       " 'I came to watch this before GTA VI',\n",
       " '0:00 YouTube is born.',\n",
       " 'well internet explorer finally loaded this video',\n",
       " 'Some people who watch this aren’t even as old as the video',\n",
       " 'This video is older than a lot of people alive today.',\n",
       " 'The first video on YouTube by the company founder of YouTube is being watched every hour 20 years later ',\n",
       " 'This video just appered on my recomendation page and that is crazy after 18 years',\n",
       " 'Jawed is the first legend on YouTube and will NEVER be forgotten ',\n",
       " 'This video landed on my homepage',\n",
       " 'Next year in 2025 this video will be 20 years old',\n",
       " 'The only guy who can say \"first\" on any video on Youtube.',\n",
       " 'Good recommended morning',\n",
       " 'FIRST WORD ON YOUTUBE : Alright! ',\n",
       " 'Bro what the heck this is a moment in history and people are like begging.\\n\\n\\nWtfrick humanity.',\n",
       " \"Anyone else here directed from Matthew Santoro's video?\",\n",
       " 'Oldest video on YouTube: Me at the zoo\\n\\nLast video on YouTube: Me leaving the zoo',\n",
       " 'Nice  Happy Birthday ',\n",
       " 'The first video on YouTube!',\n",
       " '2005: \"Me at zoo.\"\\n\\n\\n2019: \"Me and boys going to area 51.\"',\n",
       " 'Well, Matthew Santoro brought me here, how bout you?',\n",
       " \"ONLY LEGENDS CAN HEAR A LITTLE BOY'S VOICE AT 00.00 \",\n",
       " 'A VIDEO 19 YEARS AGO!!?.',\n",
       " 'It’s mad how this video started it all! There are over 800 Million YouTube videos out there and this was the first!',\n",
       " '“They have, really, really, really long trunks.”\\nThe more you know ☆.',\n",
       " 'I wonder if those elephants are still alive',\n",
       " 'This video is like buying a Bitcoin in olden days',\n",
       " '18 years later and he is still in the zoo\\n\\nEdit: 19 years',\n",
       " 'quality content. at least compared to Jake Paul',\n",
       " \"I'm so glad this is the first video on YouTube. It's so dope.\",\n",
       " 'Legends are watching in 2024',\n",
       " 'First thing said on YouTube: Little girl saying “yeet” in the background',\n",
       " '15 years ago today we learned about elephants and their trunks',\n",
       " 'عندما أضع تعليق على هذا الفيديوا سأكون قد وضعت تعليقاً على أول فيديوا نزل في تطبيق  YouTube  أين أنتي يا موسوعة ڨنس للأرقام القياسية ',\n",
       " 'So amazing what youtube was back then..',\n",
       " 'FIRST ELEPHANT ON YOUTUBE',\n",
       " 'Came from tylers video with Jim \\nAnyone else',\n",
       " '19 has passed.. this video havent changed yet. still a legend ',\n",
       " 'The first video in youtube respect',\n",
       " '2005:- \"ME AT THE ZOO\\n2017:- \"ENGLAND IS MY CITY\"',\n",
       " \"You know you've hit rock bottom when you're on YouTube at midnight searching up YouTube's oldest video\",\n",
       " 'Yo this was made on the same day as, \"my snowboarding skillz\"',\n",
       " 'It went from the zoo to skibidi toilet',\n",
       " 'I expected more enthusiasm from the elephant for being part of history',\n",
       " 'Little did those elephants know, they’d be the first elephants ever to be on YouTube',\n",
       " 'She exudes an elegant charm and carries herself with the grace and pride of a true queen.️',\n",
       " 'Its amazing that he posted ONE single video and he has 4,6 million subs\\n\\nJune 2024? Anyone?']"
      ]
     },
     "execution_count": 19,
     "metadata": {},
     "output_type": "execute_result"
    }
   ],
   "source": [
    "comment_list"
   ]
  },
  {
   "cell_type": "code",
   "execution_count": 20,
   "metadata": {},
   "outputs": [],
   "source": [
    "#2. 드라이버 옵션 설정\n",
    "chrome_options = webdriver.ChromeOptions()\n",
    "chrome_options.add_experimental_option('detach',True)\n",
    "# 웹 브라우저 띄우기\n",
    "driver = webdriver.Chrome(service=Service(ChromeDriverManager().install()),\n",
    "                          options=chrome_options)"
   ]
  },
  {
   "cell_type": "code",
   "execution_count": 21,
   "metadata": {},
   "outputs": [],
   "source": [
    "url = \"https://www.youtube.com/watch?v=JZ9ysYY-qqI\"\n",
    "driver.get(url)\n",
    "time.sleep(2)"
   ]
  },
  {
   "cell_type": "code",
   "execution_count": 23,
   "metadata": {},
   "outputs": [],
   "source": [
    "play_button = driver.find_element(By.CSS_SELECTOR,\".ytp-play-button.ytp-button\")\n",
    "play_button.click()"
   ]
  },
  {
   "cell_type": "code",
   "execution_count": null,
   "metadata": {},
   "outputs": [],
   "source": [
    "comment_text = driver.find_elements(By.ID,\"content-text\")"
   ]
  },
  {
   "cell_type": "code",
   "execution_count": 26,
   "metadata": {},
   "outputs": [],
   "source": [
    "comment_count = 200\n",
    "while True:\n",
    "    comment_text = driver.find_elements(By.ID,\"content-text\")\n",
    "    if len(comment_text)<comment_count:\n",
    "        driver.find_element(By.CSS_SELECTOR,\"body\").send_keys(Keys.END)\n",
    "        time.sleep(2)\n",
    "    else :\n",
    "        break\n",
    "comment_list = []\n",
    "for comment in comment_text:\n",
    "    comment_list.append(comment.text)"
   ]
  },
  {
   "cell_type": "code",
   "execution_count": 28,
   "metadata": {},
   "outputs": [
    {
     "data": {
      "text/plain": [
       "200"
      ]
     },
     "execution_count": 28,
     "metadata": {},
     "output_type": "execute_result"
    }
   ],
   "source": [
    "len(comment_list)"
   ]
  },
  {
   "cell_type": "code",
   "execution_count": null,
   "metadata": {},
   "outputs": [],
   "source": []
  }
 ],
 "metadata": {
  "kernelspec": {
   "display_name": "gumi_env310",
   "language": "python",
   "name": "python3"
  },
  "language_info": {
   "codemirror_mode": {
    "name": "ipython",
    "version": 3
   },
   "file_extension": ".py",
   "mimetype": "text/x-python",
   "name": "python",
   "nbconvert_exporter": "python",
   "pygments_lexer": "ipython3",
   "version": "3.10.14"
  }
 },
 "nbformat": 4,
 "nbformat_minor": 2
}
